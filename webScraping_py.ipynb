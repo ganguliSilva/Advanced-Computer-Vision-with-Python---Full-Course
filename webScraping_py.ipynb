{
  "nbformat": 4,
  "nbformat_minor": 0,
  "metadata": {
    "colab": {
      "private_outputs": true,
      "provenance": [],
      "mount_file_id": "1u3Yeq_kz5ieBc1JrCszoggI1T76FfvaB",
      "authorship_tag": "ABX9TyNzXBwSa3eSOU9hEkDM824L",
      "include_colab_link": true
    },
    "kernelspec": {
      "name": "python3",
      "display_name": "Python 3"
    },
    "language_info": {
      "name": "python"
    }
  },
  "cells": [
    {
      "cell_type": "markdown",
      "metadata": {
        "id": "view-in-github",
        "colab_type": "text"
      },
      "source": [
        "<a href=\"https://colab.research.google.com/github/ganguliSilva/Advanced-Computer-Vision-with-Python---Full-Course/blob/main/webScraping_py.ipynb\" target=\"_parent\"><img src=\"https://colab.research.google.com/assets/colab-badge.svg\" alt=\"Open In Colab\"/></a>"
      ]
    },
    {
      "cell_type": "code",
      "source": [
        "# In order to use the Drive API, we must first authenticate and construct an API client.\n",
        "from google.colab import auth\n",
        "auth.authenticate_user()\n",
        "from googleapiclient.discovery import build\n",
        "drive_service = build('drive', 'v3')"
      ],
      "metadata": {
        "id": "CIOwQdC251JW"
      },
      "execution_count": null,
      "outputs": []
    },
    {
      "cell_type": "code",
      "source": [
        "from google.auth.jwt import encode\n",
        "from bs4 import BeautifulSoup\n",
        "import requests,shutil,cv2\n",
        "import lxml\n",
        "from io import BytesIO\n",
        "\n",
        "#instantiating counter\n",
        "count = 0\n",
        "\n",
        "url = 'https://www.google.com/search?q=samanali+fonseka&tbm=isch&ved=2ahUKEwi7jtzntuL8AhUYktgFHbH4B64Q2-cCegQIABAA&oq=samanali+fonseka&gs_lcp=CgNpbWcQA1AAWABgAGgAcAB4AIABAIgBAJIBAJgBAKoBC2d3cy13aXotaW1n&sclient=img&ei=GfnQY_udJZik4t4PsfGf8Ao&bih=735&biw=1536'\n",
        "response = requests.get(url)\n",
        "soup = BeautifulSoup(response.content, 'lxml')\n",
        "\n",
        "# Check creative common lisence before web scrapping\n",
        "img_tags = soup.find_all('img')\n",
        "\n",
        "for img in img_tags:\n",
        "  \n",
        "  # Check Creative Commons license\n",
        "  if 'creativecommons.org' in img['src']:\n",
        "      print('Creative Commons license found!')\n",
        "\n",
        "  else:\n",
        "    print('Creative Commons license not found and can scrape images')\n",
        "\n",
        "    img_url = img['src']\n",
        "      \n",
        "    if not img_url.startswith('http'):\n",
        "       # if the image URL is relative, prepend the domain\n",
        "       img_url = url + img_url\n",
        "    responsee = requests.get(img_url)\n",
        "\n",
        "    # In order to use the Drive API, we must first authenticate and construct an API client.\n",
        "    # fileNamee = f'image{count}.jpg'\n",
        "\n",
        "    # In order to use the Drive API, we must first authenticate and construct an API client.\n",
        "    fileName = f'image{count}'\n",
        "    with open(f'/content/drive/MyDrive/FACE_COMPOSITION_WITH_GANs_-_Roshani_Silva/dataset/images/{fileName}.jpg', 'wb') as f:\n",
        "      shutil.copyfileobj(responsee.raw, f)\n",
        "      f.write(responsee.content)\n",
        "\n",
        "    print('/content/drive/MyDrive/FACE_COMPOSITION_WITH_GANs_-_Roshani_Silva/dataset/images/image.jpg contains:')\n",
        "    # !cat '/content/drive/MyDrive/FACE_COMPOSITION_WITH_GANs_-_Roshani_Silva/dataset/images/image.jpg'\n",
        "\n",
        "    count+=1  \n",
        "\n",
        "print('Script Ended')"
      ],
      "metadata": {
        "id": "Nrlq9WrPgAij"
      },
      "execution_count": null,
      "outputs": []
    }
  ]
}