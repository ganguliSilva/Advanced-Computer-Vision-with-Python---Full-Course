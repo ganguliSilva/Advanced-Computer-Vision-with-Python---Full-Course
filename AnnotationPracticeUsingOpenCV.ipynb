{
  "nbformat": 4,
  "nbformat_minor": 0,
  "metadata": {
    "colab": {
      "private_outputs": true,
      "provenance": [],
      "authorship_tag": "ABX9TyOdR0fHy7Mq+RWt85awXKuf",
      "include_colab_link": true
    },
    "kernelspec": {
      "name": "python3",
      "display_name": "Python 3"
    },
    "language_info": {
      "name": "python"
    }
  },
  "cells": [
    {
      "cell_type": "markdown",
      "metadata": {
        "id": "view-in-github",
        "colab_type": "text"
      },
      "source": [
        "<a href=\"https://colab.research.google.com/github/ganguliSilva/Advanced-Computer-Vision-with-Python---Full-Course/blob/main/AnnotationPracticeUsingOpenCV.ipynb\" target=\"_parent\"><img src=\"https://colab.research.google.com/assets/colab-badge.svg\" alt=\"Open In Colab\"/></a>"
      ]
    },
    {
      "cell_type": "code",
      "source": [
        "# # In order to use the Drive API, we must first authenticate and construct an API client.\n",
        "# from google.colab import auth\n",
        "# auth.authenticate_user()\n",
        "# from googleapiclient.discovery import build\n",
        "# drive_service = build('drive', 'v3')"
      ],
      "metadata": {
        "id": "CIOwQdC251JW"
      },
      "execution_count": null,
      "outputs": []
    },
    {
      "cell_type": "code",
      "source": [
        "import cv2\n",
        "# from google.auth.jwt import encode\n",
        "# from bs4 import BeautifulSoup\n",
        "# import requests,shutil,cv2\n",
        "# import lxml\n",
        "\n",
        "import numpy as np\n",
        "from PIL import Image\n",
        "from skimage import io\n",
        "import matplotlib.pyplot as plt\n",
        "%matplotlib inline\n",
        "\n",
        "# Load the cascade classifier for face detection\n",
        "# face_cascade = cv2.CascadeClassifier('path/to/haarcascade_frontalface_default.xml')\n",
        "\n",
        "#instantiating counter\n",
        "# count = 0\n",
        "\n",
        "# url = 'https://www.google.com/search?q=samanali+fonseka&tbm=isch&ved=2ahUKEwi7jtzntuL8AhUYktgFHbH4B64Q2-cCegQIABAA&oq=samanali+fonseka&gs_lcp=CgNpbWcQA1AAWABgAGgAcAB4AIABAIgBAJIBAJgBAKoBC2d3cy13aXotaW1n&sclient=img&ei=GfnQY_udJZik4t4PsfGf8Ao&bih=735&biw=1536'\n",
        "# response = requests.get(url)\n",
        "# # Get the image content from the response\n",
        "# image_content = response.content\n",
        "\n"
      ],
      "metadata": {
        "id": "Nrlq9WrPgAij"
      },
      "execution_count": null,
      "outputs": []
    },
    {
      "cell_type": "code",
      "source": [
        "imagee = io.imread('girl.jpg')"
      ],
      "metadata": {
        "id": "gTrzutiKIOd-"
      },
      "execution_count": null,
      "outputs": []
    },
    {
      "cell_type": "code",
      "source": [
        "plt.imshow(imagee)"
      ],
      "metadata": {
        "id": "byR-6RPYIztH"
      },
      "execution_count": null,
      "outputs": []
    },
    {
      "cell_type": "code",
      "source": [
        "test_image_grey = cv2.cvtColor(imagee, cv2.COLOR_BGR2GRAY)"
      ],
      "metadata": {
        "id": "1cecuxTyI8yv"
      },
      "execution_count": null,
      "outputs": []
    },
    {
      "cell_type": "code",
      "source": [
        "plt.imshow(test_image_grey, cmap='gray')"
      ],
      "metadata": {
        "id": "Ovxv3uRnJsRn"
      },
      "execution_count": null,
      "outputs": []
    },
    {
      "cell_type": "code",
      "source": [
        "def convertTORGB(image):\n",
        "  return cv2.cvtColor(image, cv2.COLOR_BGR2RGB)"
      ],
      "metadata": {
        "id": "xOs1KFBsJ42D"
      },
      "execution_count": null,
      "outputs": []
    },
    {
      "cell_type": "code",
      "source": [
        "haar_cascade_face = cv2.CascadeClassifier(cv2.data.haarcascades + \"haarcascade_frontalface_default.xml\")"
      ],
      "metadata": {
        "id": "pbZrydiPKVlV"
      },
      "execution_count": null,
      "outputs": []
    },
    {
      "cell_type": "code",
      "source": [
        "faces_rects = haar_cascade_face.detectMultiScale(test_image_grey, scaleFactor = 1.2, minNeighbors=5);"
      ],
      "metadata": {
        "id": "JYwsrd9qLDw7"
      },
      "execution_count": null,
      "outputs": []
    },
    {
      "cell_type": "code",
      "source": [
        "print('Face Found : ', len(faces_rects))"
      ],
      "metadata": {
        "id": "iYzPiVHhKoX8"
      },
      "execution_count": null,
      "outputs": []
    },
    {
      "cell_type": "code",
      "source": [
        "test_image = cv2.imread('girl.jpg')"
      ],
      "metadata": {
        "id": "rrpBNn0YKmnf"
      },
      "execution_count": null,
      "outputs": []
    },
    {
      "cell_type": "code",
      "source": [
        "for (x,y,w,h) in faces_rects:\n",
        "  cv2.rectangle(test_image, (x,y), (x+w, y+h), (0,255,0), 4)"
      ],
      "metadata": {
        "id": "dDFWnSytNiFL"
      },
      "execution_count": null,
      "outputs": []
    },
    {
      "cell_type": "code",
      "source": [
        "plt.imshow(convertTORGB(test_image))"
      ],
      "metadata": {
        "id": "-5j6BVh7N_EN"
      },
      "execution_count": null,
      "outputs": []
    },
    {
      "cell_type": "code",
      "source": [
        "print(x,y,h,w)"
      ],
      "metadata": {
        "id": "aJxWPdX2OZ74"
      },
      "execution_count": null,
      "outputs": []
    },
    {
      "cell_type": "code",
      "source": [
        "y= 30\n",
        "x= 200\n",
        "w= 350\n",
        "h=460"
      ],
      "metadata": {
        "id": "V4cOBnO4PQ8o"
      },
      "execution_count": null,
      "outputs": []
    },
    {
      "cell_type": "code",
      "source": [
        "print(x,y,h,w)\n",
        "print('Shape oof the image :', imagee.shape)\n",
        "crop  = imagee[y:y+h, x:x+w]\n",
        "plt.imshow(crop)"
      ],
      "metadata": {
        "id": "OC6DPJg3P0--"
      },
      "execution_count": null,
      "outputs": []
    }
  ]
}